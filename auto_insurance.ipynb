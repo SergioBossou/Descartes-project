{
 "cells": [
  {
   "cell_type": "markdown",
   "metadata": {},
   "source": [
    "## <center> Descartes Underwriting test"
   ]
  },
  {
   "cell_type": "markdown",
   "metadata": {},
   "source": [
    "Sergio Bossou"
   ]
  },
  {
   "cell_type": "code",
   "execution_count": 91,
   "metadata": {},
   "outputs": [],
   "source": [
    "import numpy as np\n",
    "import pandas as pd\n",
    "import matplotlib.pyplot as plt"
   ]
  },
  {
   "cell_type": "code",
   "execution_count": 92,
   "metadata": {},
   "outputs": [],
   "source": [
    "test_df = pd.read_csv('test_auto.csv')\n",
    "train_df = pd.read_csv('train_auto.csv')\n",
    "mean_df = pd.read_csv('MEAN_AUTO.csv')\n",
    "shell_df = pd.read_csv('SHELL_AUTO.csv')\n",
    "\n",
    "train_df_copy = train_df.copy()"
   ]
  },
  {
   "cell_type": "markdown",
   "metadata": {},
   "source": [
    "### Data exploration"
   ]
  },
  {
   "cell_type": "code",
   "execution_count": 93,
   "metadata": {},
   "outputs": [
    {
     "data": {
      "text/plain": [
       "Index(['INDEX', 'TARGET_FLAG', 'TARGET_AMT', 'KIDSDRIV', 'AGE', 'HOMEKIDS',\n",
       "       'YOJ', 'INCOME', 'PARENT1', 'HOME_VAL', 'MSTATUS', 'SEX', 'EDUCATION',\n",
       "       'JOB', 'TRAVTIME', 'CAR_USE', 'BLUEBOOK', 'TIF', 'CAR_TYPE', 'RED_CAR',\n",
       "       'OLDCLAIM', 'CLM_FREQ', 'REVOKED', 'MVR_PTS', 'CAR_AGE', 'URBANICITY'],\n",
       "      dtype='object')"
      ]
     },
     "execution_count": 93,
     "metadata": {},
     "output_type": "execute_result"
    }
   ],
   "source": [
    "train_df.columns"
   ]
  },
  {
   "cell_type": "code",
   "execution_count": 94,
   "metadata": {},
   "outputs": [
    {
     "name": "stdout",
     "output_type": "stream",
     "text": [
      "<class 'pandas.core.frame.DataFrame'>\n",
      "RangeIndex: 8161 entries, 0 to 8160\n",
      "Data columns (total 26 columns):\n",
      " #   Column       Non-Null Count  Dtype  \n",
      "---  ------       --------------  -----  \n",
      " 0   INDEX        8161 non-null   int64  \n",
      " 1   TARGET_FLAG  8161 non-null   int64  \n",
      " 2   TARGET_AMT   8161 non-null   float64\n",
      " 3   KIDSDRIV     8161 non-null   int64  \n",
      " 4   AGE          8155 non-null   float64\n",
      " 5   HOMEKIDS     8161 non-null   int64  \n",
      " 6   YOJ          7707 non-null   float64\n",
      " 7   INCOME       7716 non-null   object \n",
      " 8   PARENT1      8161 non-null   object \n",
      " 9   HOME_VAL     7697 non-null   object \n",
      " 10  MSTATUS      8161 non-null   object \n",
      " 11  SEX          8161 non-null   object \n",
      " 12  EDUCATION    8161 non-null   object \n",
      " 13  JOB          7635 non-null   object \n",
      " 14  TRAVTIME     8161 non-null   int64  \n",
      " 15  CAR_USE      8161 non-null   object \n",
      " 16  BLUEBOOK     8161 non-null   object \n",
      " 17  TIF          8161 non-null   int64  \n",
      " 18  CAR_TYPE     8161 non-null   object \n",
      " 19  RED_CAR      8161 non-null   object \n",
      " 20  OLDCLAIM     8161 non-null   object \n",
      " 21  CLM_FREQ     8161 non-null   int64  \n",
      " 22  REVOKED      8161 non-null   object \n",
      " 23  MVR_PTS      8161 non-null   int64  \n",
      " 24  CAR_AGE      7651 non-null   float64\n",
      " 25  URBANICITY   8161 non-null   object \n",
      "dtypes: float64(4), int64(8), object(14)\n",
      "memory usage: 1.6+ MB\n"
     ]
    }
   ],
   "source": [
    "train_df.info()"
   ]
  },
  {
   "cell_type": "code",
   "execution_count": 95,
   "metadata": {},
   "outputs": [
    {
     "data": {
      "text/html": [
       "<div>\n",
       "<style scoped>\n",
       "    .dataframe tbody tr th:only-of-type {\n",
       "        vertical-align: middle;\n",
       "    }\n",
       "\n",
       "    .dataframe tbody tr th {\n",
       "        vertical-align: top;\n",
       "    }\n",
       "\n",
       "    .dataframe thead th {\n",
       "        text-align: right;\n",
       "    }\n",
       "</style>\n",
       "<table border=\"1\" class=\"dataframe\">\n",
       "  <thead>\n",
       "    <tr style=\"text-align: right;\">\n",
       "      <th></th>\n",
       "      <th>INDEX</th>\n",
       "      <th>TARGET_FLAG</th>\n",
       "      <th>TARGET_AMT</th>\n",
       "      <th>KIDSDRIV</th>\n",
       "      <th>AGE</th>\n",
       "      <th>HOMEKIDS</th>\n",
       "      <th>YOJ</th>\n",
       "      <th>TRAVTIME</th>\n",
       "      <th>TIF</th>\n",
       "      <th>CLM_FREQ</th>\n",
       "      <th>MVR_PTS</th>\n",
       "      <th>CAR_AGE</th>\n",
       "    </tr>\n",
       "  </thead>\n",
       "  <tbody>\n",
       "    <tr>\n",
       "      <th>count</th>\n",
       "      <td>8161.000000</td>\n",
       "      <td>8161.000000</td>\n",
       "      <td>8161.000000</td>\n",
       "      <td>8161.000000</td>\n",
       "      <td>8155.000000</td>\n",
       "      <td>8161.000000</td>\n",
       "      <td>7707.000000</td>\n",
       "      <td>8161.000000</td>\n",
       "      <td>8161.000000</td>\n",
       "      <td>8161.000000</td>\n",
       "      <td>8161.000000</td>\n",
       "      <td>7651.000000</td>\n",
       "    </tr>\n",
       "    <tr>\n",
       "      <th>mean</th>\n",
       "      <td>5151.867663</td>\n",
       "      <td>0.263816</td>\n",
       "      <td>1504.324648</td>\n",
       "      <td>0.171057</td>\n",
       "      <td>44.790313</td>\n",
       "      <td>0.721235</td>\n",
       "      <td>10.499286</td>\n",
       "      <td>33.485725</td>\n",
       "      <td>5.351305</td>\n",
       "      <td>0.798554</td>\n",
       "      <td>1.695503</td>\n",
       "      <td>8.328323</td>\n",
       "    </tr>\n",
       "    <tr>\n",
       "      <th>std</th>\n",
       "      <td>2978.893962</td>\n",
       "      <td>0.440728</td>\n",
       "      <td>4704.026930</td>\n",
       "      <td>0.511534</td>\n",
       "      <td>8.627589</td>\n",
       "      <td>1.116323</td>\n",
       "      <td>4.092474</td>\n",
       "      <td>15.908333</td>\n",
       "      <td>4.146635</td>\n",
       "      <td>1.158453</td>\n",
       "      <td>2.147112</td>\n",
       "      <td>5.700742</td>\n",
       "    </tr>\n",
       "    <tr>\n",
       "      <th>min</th>\n",
       "      <td>1.000000</td>\n",
       "      <td>0.000000</td>\n",
       "      <td>0.000000</td>\n",
       "      <td>0.000000</td>\n",
       "      <td>16.000000</td>\n",
       "      <td>0.000000</td>\n",
       "      <td>0.000000</td>\n",
       "      <td>5.000000</td>\n",
       "      <td>1.000000</td>\n",
       "      <td>0.000000</td>\n",
       "      <td>0.000000</td>\n",
       "      <td>-3.000000</td>\n",
       "    </tr>\n",
       "    <tr>\n",
       "      <th>25%</th>\n",
       "      <td>2559.000000</td>\n",
       "      <td>0.000000</td>\n",
       "      <td>0.000000</td>\n",
       "      <td>0.000000</td>\n",
       "      <td>39.000000</td>\n",
       "      <td>0.000000</td>\n",
       "      <td>9.000000</td>\n",
       "      <td>22.000000</td>\n",
       "      <td>1.000000</td>\n",
       "      <td>0.000000</td>\n",
       "      <td>0.000000</td>\n",
       "      <td>1.000000</td>\n",
       "    </tr>\n",
       "    <tr>\n",
       "      <th>50%</th>\n",
       "      <td>5133.000000</td>\n",
       "      <td>0.000000</td>\n",
       "      <td>0.000000</td>\n",
       "      <td>0.000000</td>\n",
       "      <td>45.000000</td>\n",
       "      <td>0.000000</td>\n",
       "      <td>11.000000</td>\n",
       "      <td>33.000000</td>\n",
       "      <td>4.000000</td>\n",
       "      <td>0.000000</td>\n",
       "      <td>1.000000</td>\n",
       "      <td>8.000000</td>\n",
       "    </tr>\n",
       "    <tr>\n",
       "      <th>75%</th>\n",
       "      <td>7745.000000</td>\n",
       "      <td>1.000000</td>\n",
       "      <td>1036.000000</td>\n",
       "      <td>0.000000</td>\n",
       "      <td>51.000000</td>\n",
       "      <td>1.000000</td>\n",
       "      <td>13.000000</td>\n",
       "      <td>44.000000</td>\n",
       "      <td>7.000000</td>\n",
       "      <td>2.000000</td>\n",
       "      <td>3.000000</td>\n",
       "      <td>12.000000</td>\n",
       "    </tr>\n",
       "    <tr>\n",
       "      <th>max</th>\n",
       "      <td>10302.000000</td>\n",
       "      <td>1.000000</td>\n",
       "      <td>107586.136160</td>\n",
       "      <td>4.000000</td>\n",
       "      <td>81.000000</td>\n",
       "      <td>5.000000</td>\n",
       "      <td>23.000000</td>\n",
       "      <td>142.000000</td>\n",
       "      <td>25.000000</td>\n",
       "      <td>5.000000</td>\n",
       "      <td>13.000000</td>\n",
       "      <td>28.000000</td>\n",
       "    </tr>\n",
       "  </tbody>\n",
       "</table>\n",
       "</div>"
      ],
      "text/plain": [
       "              INDEX  TARGET_FLAG     TARGET_AMT     KIDSDRIV          AGE  \\\n",
       "count   8161.000000  8161.000000    8161.000000  8161.000000  8155.000000   \n",
       "mean    5151.867663     0.263816    1504.324648     0.171057    44.790313   \n",
       "std     2978.893962     0.440728    4704.026930     0.511534     8.627589   \n",
       "min        1.000000     0.000000       0.000000     0.000000    16.000000   \n",
       "25%     2559.000000     0.000000       0.000000     0.000000    39.000000   \n",
       "50%     5133.000000     0.000000       0.000000     0.000000    45.000000   \n",
       "75%     7745.000000     1.000000    1036.000000     0.000000    51.000000   \n",
       "max    10302.000000     1.000000  107586.136160     4.000000    81.000000   \n",
       "\n",
       "          HOMEKIDS          YOJ     TRAVTIME          TIF     CLM_FREQ  \\\n",
       "count  8161.000000  7707.000000  8161.000000  8161.000000  8161.000000   \n",
       "mean      0.721235    10.499286    33.485725     5.351305     0.798554   \n",
       "std       1.116323     4.092474    15.908333     4.146635     1.158453   \n",
       "min       0.000000     0.000000     5.000000     1.000000     0.000000   \n",
       "25%       0.000000     9.000000    22.000000     1.000000     0.000000   \n",
       "50%       0.000000    11.000000    33.000000     4.000000     0.000000   \n",
       "75%       1.000000    13.000000    44.000000     7.000000     2.000000   \n",
       "max       5.000000    23.000000   142.000000    25.000000     5.000000   \n",
       "\n",
       "           MVR_PTS      CAR_AGE  \n",
       "count  8161.000000  7651.000000  \n",
       "mean      1.695503     8.328323  \n",
       "std       2.147112     5.700742  \n",
       "min       0.000000    -3.000000  \n",
       "25%       0.000000     1.000000  \n",
       "50%       1.000000     8.000000  \n",
       "75%       3.000000    12.000000  \n",
       "max      13.000000    28.000000  "
      ]
     },
     "execution_count": 95,
     "metadata": {},
     "output_type": "execute_result"
    }
   ],
   "source": [
    "train_df.describe()"
   ]
  },
  {
   "cell_type": "markdown",
   "metadata": {},
   "source": [
    "### Data cleaning and feature engineering"
   ]
  },
  {
   "cell_type": "code",
   "execution_count": 96,
   "metadata": {
    "scrolled": false
   },
   "outputs": [
    {
     "data": {
      "text/html": [
       "<div>\n",
       "<style scoped>\n",
       "    .dataframe tbody tr th:only-of-type {\n",
       "        vertical-align: middle;\n",
       "    }\n",
       "\n",
       "    .dataframe tbody tr th {\n",
       "        vertical-align: top;\n",
       "    }\n",
       "\n",
       "    .dataframe thead th {\n",
       "        text-align: right;\n",
       "    }\n",
       "</style>\n",
       "<table border=\"1\" class=\"dataframe\">\n",
       "  <thead>\n",
       "    <tr style=\"text-align: right;\">\n",
       "      <th></th>\n",
       "      <th>INDEX</th>\n",
       "      <th>TARGET_FLAG</th>\n",
       "      <th>TARGET_AMT</th>\n",
       "      <th>KIDSDRIV</th>\n",
       "      <th>AGE</th>\n",
       "      <th>HOMEKIDS</th>\n",
       "      <th>YOJ</th>\n",
       "      <th>INCOME</th>\n",
       "      <th>PARENT1</th>\n",
       "      <th>HOME_VAL</th>\n",
       "      <th>...</th>\n",
       "      <th>BLUEBOOK</th>\n",
       "      <th>TIF</th>\n",
       "      <th>CAR_TYPE</th>\n",
       "      <th>RED_CAR</th>\n",
       "      <th>OLDCLAIM</th>\n",
       "      <th>CLM_FREQ</th>\n",
       "      <th>REVOKED</th>\n",
       "      <th>MVR_PTS</th>\n",
       "      <th>CAR_AGE</th>\n",
       "      <th>URBANICITY</th>\n",
       "    </tr>\n",
       "  </thead>\n",
       "  <tbody>\n",
       "    <tr>\n",
       "      <th>0</th>\n",
       "      <td>1</td>\n",
       "      <td>0</td>\n",
       "      <td>0.0</td>\n",
       "      <td>0</td>\n",
       "      <td>60.0</td>\n",
       "      <td>0</td>\n",
       "      <td>11.0</td>\n",
       "      <td>$67,349</td>\n",
       "      <td>No</td>\n",
       "      <td>$0</td>\n",
       "      <td>...</td>\n",
       "      <td>$14,230</td>\n",
       "      <td>11</td>\n",
       "      <td>Minivan</td>\n",
       "      <td>yes</td>\n",
       "      <td>$4,461</td>\n",
       "      <td>2</td>\n",
       "      <td>No</td>\n",
       "      <td>3</td>\n",
       "      <td>18.0</td>\n",
       "      <td>Highly Urban/ Urban</td>\n",
       "    </tr>\n",
       "    <tr>\n",
       "      <th>1</th>\n",
       "      <td>2</td>\n",
       "      <td>0</td>\n",
       "      <td>0.0</td>\n",
       "      <td>0</td>\n",
       "      <td>43.0</td>\n",
       "      <td>0</td>\n",
       "      <td>11.0</td>\n",
       "      <td>$91,449</td>\n",
       "      <td>No</td>\n",
       "      <td>$257,252</td>\n",
       "      <td>...</td>\n",
       "      <td>$14,940</td>\n",
       "      <td>1</td>\n",
       "      <td>Minivan</td>\n",
       "      <td>yes</td>\n",
       "      <td>$0</td>\n",
       "      <td>0</td>\n",
       "      <td>No</td>\n",
       "      <td>0</td>\n",
       "      <td>1.0</td>\n",
       "      <td>Highly Urban/ Urban</td>\n",
       "    </tr>\n",
       "    <tr>\n",
       "      <th>2</th>\n",
       "      <td>4</td>\n",
       "      <td>0</td>\n",
       "      <td>0.0</td>\n",
       "      <td>0</td>\n",
       "      <td>35.0</td>\n",
       "      <td>1</td>\n",
       "      <td>10.0</td>\n",
       "      <td>$16,039</td>\n",
       "      <td>No</td>\n",
       "      <td>$124,191</td>\n",
       "      <td>...</td>\n",
       "      <td>$4,010</td>\n",
       "      <td>4</td>\n",
       "      <td>z_SUV</td>\n",
       "      <td>no</td>\n",
       "      <td>$38,690</td>\n",
       "      <td>2</td>\n",
       "      <td>No</td>\n",
       "      <td>3</td>\n",
       "      <td>10.0</td>\n",
       "      <td>Highly Urban/ Urban</td>\n",
       "    </tr>\n",
       "    <tr>\n",
       "      <th>5</th>\n",
       "      <td>7</td>\n",
       "      <td>1</td>\n",
       "      <td>2946.0</td>\n",
       "      <td>0</td>\n",
       "      <td>34.0</td>\n",
       "      <td>1</td>\n",
       "      <td>12.0</td>\n",
       "      <td>$125,301</td>\n",
       "      <td>Yes</td>\n",
       "      <td>$0</td>\n",
       "      <td>...</td>\n",
       "      <td>$17,430</td>\n",
       "      <td>1</td>\n",
       "      <td>Sports Car</td>\n",
       "      <td>no</td>\n",
       "      <td>$0</td>\n",
       "      <td>0</td>\n",
       "      <td>No</td>\n",
       "      <td>0</td>\n",
       "      <td>7.0</td>\n",
       "      <td>Highly Urban/ Urban</td>\n",
       "    </tr>\n",
       "    <tr>\n",
       "      <th>8</th>\n",
       "      <td>12</td>\n",
       "      <td>1</td>\n",
       "      <td>2501.0</td>\n",
       "      <td>0</td>\n",
       "      <td>34.0</td>\n",
       "      <td>0</td>\n",
       "      <td>10.0</td>\n",
       "      <td>$62,978</td>\n",
       "      <td>No</td>\n",
       "      <td>$0</td>\n",
       "      <td>...</td>\n",
       "      <td>$11,200</td>\n",
       "      <td>1</td>\n",
       "      <td>z_SUV</td>\n",
       "      <td>no</td>\n",
       "      <td>$0</td>\n",
       "      <td>0</td>\n",
       "      <td>No</td>\n",
       "      <td>0</td>\n",
       "      <td>1.0</td>\n",
       "      <td>Highly Urban/ Urban</td>\n",
       "    </tr>\n",
       "    <tr>\n",
       "      <th>...</th>\n",
       "      <td>...</td>\n",
       "      <td>...</td>\n",
       "      <td>...</td>\n",
       "      <td>...</td>\n",
       "      <td>...</td>\n",
       "      <td>...</td>\n",
       "      <td>...</td>\n",
       "      <td>...</td>\n",
       "      <td>...</td>\n",
       "      <td>...</td>\n",
       "      <td>...</td>\n",
       "      <td>...</td>\n",
       "      <td>...</td>\n",
       "      <td>...</td>\n",
       "      <td>...</td>\n",
       "      <td>...</td>\n",
       "      <td>...</td>\n",
       "      <td>...</td>\n",
       "      <td>...</td>\n",
       "      <td>...</td>\n",
       "      <td>...</td>\n",
       "    </tr>\n",
       "    <tr>\n",
       "      <th>8155</th>\n",
       "      <td>10296</td>\n",
       "      <td>0</td>\n",
       "      <td>0.0</td>\n",
       "      <td>0</td>\n",
       "      <td>41.0</td>\n",
       "      <td>0</td>\n",
       "      <td>7.0</td>\n",
       "      <td>$6,256</td>\n",
       "      <td>No</td>\n",
       "      <td>$0</td>\n",
       "      <td>...</td>\n",
       "      <td>$5,600</td>\n",
       "      <td>1</td>\n",
       "      <td>Pickup</td>\n",
       "      <td>no</td>\n",
       "      <td>$0</td>\n",
       "      <td>0</td>\n",
       "      <td>No</td>\n",
       "      <td>0</td>\n",
       "      <td>7.0</td>\n",
       "      <td>z_Highly Rural/ Rural</td>\n",
       "    </tr>\n",
       "    <tr>\n",
       "      <th>8156</th>\n",
       "      <td>10297</td>\n",
       "      <td>0</td>\n",
       "      <td>0.0</td>\n",
       "      <td>0</td>\n",
       "      <td>35.0</td>\n",
       "      <td>0</td>\n",
       "      <td>11.0</td>\n",
       "      <td>$43,112</td>\n",
       "      <td>No</td>\n",
       "      <td>$0</td>\n",
       "      <td>...</td>\n",
       "      <td>$27,330</td>\n",
       "      <td>10</td>\n",
       "      <td>Panel Truck</td>\n",
       "      <td>yes</td>\n",
       "      <td>$0</td>\n",
       "      <td>0</td>\n",
       "      <td>No</td>\n",
       "      <td>0</td>\n",
       "      <td>8.0</td>\n",
       "      <td>z_Highly Rural/ Rural</td>\n",
       "    </tr>\n",
       "    <tr>\n",
       "      <th>8157</th>\n",
       "      <td>10298</td>\n",
       "      <td>0</td>\n",
       "      <td>0.0</td>\n",
       "      <td>1</td>\n",
       "      <td>45.0</td>\n",
       "      <td>2</td>\n",
       "      <td>9.0</td>\n",
       "      <td>$164,669</td>\n",
       "      <td>No</td>\n",
       "      <td>$386,273</td>\n",
       "      <td>...</td>\n",
       "      <td>$13,270</td>\n",
       "      <td>15</td>\n",
       "      <td>Minivan</td>\n",
       "      <td>no</td>\n",
       "      <td>$0</td>\n",
       "      <td>0</td>\n",
       "      <td>No</td>\n",
       "      <td>2</td>\n",
       "      <td>17.0</td>\n",
       "      <td>Highly Urban/ Urban</td>\n",
       "    </tr>\n",
       "    <tr>\n",
       "      <th>8159</th>\n",
       "      <td>10301</td>\n",
       "      <td>0</td>\n",
       "      <td>0.0</td>\n",
       "      <td>0</td>\n",
       "      <td>50.0</td>\n",
       "      <td>0</td>\n",
       "      <td>7.0</td>\n",
       "      <td>$43,445</td>\n",
       "      <td>No</td>\n",
       "      <td>$149,248</td>\n",
       "      <td>...</td>\n",
       "      <td>$22,550</td>\n",
       "      <td>6</td>\n",
       "      <td>Minivan</td>\n",
       "      <td>no</td>\n",
       "      <td>$0</td>\n",
       "      <td>0</td>\n",
       "      <td>No</td>\n",
       "      <td>0</td>\n",
       "      <td>11.0</td>\n",
       "      <td>Highly Urban/ Urban</td>\n",
       "    </tr>\n",
       "    <tr>\n",
       "      <th>8160</th>\n",
       "      <td>10302</td>\n",
       "      <td>0</td>\n",
       "      <td>0.0</td>\n",
       "      <td>0</td>\n",
       "      <td>52.0</td>\n",
       "      <td>0</td>\n",
       "      <td>11.0</td>\n",
       "      <td>$53,235</td>\n",
       "      <td>No</td>\n",
       "      <td>$197,017</td>\n",
       "      <td>...</td>\n",
       "      <td>$19,400</td>\n",
       "      <td>6</td>\n",
       "      <td>Minivan</td>\n",
       "      <td>no</td>\n",
       "      <td>$0</td>\n",
       "      <td>0</td>\n",
       "      <td>No</td>\n",
       "      <td>0</td>\n",
       "      <td>9.0</td>\n",
       "      <td>z_Highly Rural/ Rural</td>\n",
       "    </tr>\n",
       "  </tbody>\n",
       "</table>\n",
       "<p>6045 rows × 26 columns</p>\n",
       "</div>"
      ],
      "text/plain": [
       "      INDEX  TARGET_FLAG  TARGET_AMT  KIDSDRIV   AGE  HOMEKIDS   YOJ  \\\n",
       "0         1            0         0.0         0  60.0         0  11.0   \n",
       "1         2            0         0.0         0  43.0         0  11.0   \n",
       "2         4            0         0.0         0  35.0         1  10.0   \n",
       "5         7            1      2946.0         0  34.0         1  12.0   \n",
       "8        12            1      2501.0         0  34.0         0  10.0   \n",
       "...     ...          ...         ...       ...   ...       ...   ...   \n",
       "8155  10296            0         0.0         0  41.0         0   7.0   \n",
       "8156  10297            0         0.0         0  35.0         0  11.0   \n",
       "8157  10298            0         0.0         1  45.0         2   9.0   \n",
       "8159  10301            0         0.0         0  50.0         0   7.0   \n",
       "8160  10302            0         0.0         0  52.0         0  11.0   \n",
       "\n",
       "        INCOME PARENT1  HOME_VAL  ... BLUEBOOK TIF     CAR_TYPE RED_CAR  \\\n",
       "0      $67,349      No        $0  ...  $14,230  11      Minivan     yes   \n",
       "1      $91,449      No  $257,252  ...  $14,940   1      Minivan     yes   \n",
       "2      $16,039      No  $124,191  ...   $4,010   4        z_SUV      no   \n",
       "5     $125,301     Yes        $0  ...  $17,430   1   Sports Car      no   \n",
       "8      $62,978      No        $0  ...  $11,200   1        z_SUV      no   \n",
       "...        ...     ...       ...  ...      ...  ..          ...     ...   \n",
       "8155    $6,256      No        $0  ...   $5,600   1       Pickup      no   \n",
       "8156   $43,112      No        $0  ...  $27,330  10  Panel Truck     yes   \n",
       "8157  $164,669      No  $386,273  ...  $13,270  15      Minivan      no   \n",
       "8159   $43,445      No  $149,248  ...  $22,550   6      Minivan      no   \n",
       "8160   $53,235      No  $197,017  ...  $19,400   6      Minivan      no   \n",
       "\n",
       "      OLDCLAIM CLM_FREQ REVOKED  MVR_PTS CAR_AGE             URBANICITY  \n",
       "0       $4,461        2      No        3    18.0    Highly Urban/ Urban  \n",
       "1           $0        0      No        0     1.0    Highly Urban/ Urban  \n",
       "2      $38,690        2      No        3    10.0    Highly Urban/ Urban  \n",
       "5           $0        0      No        0     7.0    Highly Urban/ Urban  \n",
       "8           $0        0      No        0     1.0    Highly Urban/ Urban  \n",
       "...        ...      ...     ...      ...     ...                    ...  \n",
       "8155        $0        0      No        0     7.0  z_Highly Rural/ Rural  \n",
       "8156        $0        0      No        0     8.0  z_Highly Rural/ Rural  \n",
       "8157        $0        0      No        2    17.0    Highly Urban/ Urban  \n",
       "8159        $0        0      No        0    11.0    Highly Urban/ Urban  \n",
       "8160        $0        0      No        0     9.0  z_Highly Rural/ Rural  \n",
       "\n",
       "[6045 rows x 26 columns]"
      ]
     },
     "execution_count": 96,
     "metadata": {},
     "output_type": "execute_result"
    }
   ],
   "source": [
    "# Rows without na\n",
    "train_df[train_df.notna().all(axis=1)]"
   ]
  },
  {
   "cell_type": "markdown",
   "metadata": {},
   "source": [
    "We could drop all observations with missing values but we would lose 26% of the training dataset which is unacceptable. We explore the training dataset feature and transform them adequately."
   ]
  },
  {
   "cell_type": "markdown",
   "metadata": {},
   "source": [
    "First, we use one-hot encoding for categorical variables: we transform every category of each feature into a binary variable with value 1 where it occured and 0 otherwise. "
   ]
  },
  {
   "cell_type": "code",
   "execution_count": 97,
   "metadata": {},
   "outputs": [],
   "source": [
    "def one_hot(x:str, target:str):\n",
    "    \"\"\"\n",
    "        Used to one-hot encode features\n",
    "    \"\"\"\n",
    "    if x==target:\n",
    "        return 1\n",
    "    return 0"
   ]
  },
  {
   "cell_type": "code",
   "execution_count": 98,
   "metadata": {},
   "outputs": [],
   "source": [
    "# Categorical variables\n",
    "columns = ['KIDSDRIV', 'HOMEKIDS', 'PARENT1', 'MSTATUS', 'SEX','RED_CAR','REVOKED', 'JOB', 'CAR_USE', 'CAR_TYPE', 'CLM_FREQ', 'URBANICITY']\n",
    "\n",
    "for col in columns:\n",
    "    for i in train_df[col].unique():\n",
    "        train_df[col+' ' + str(i)] = train_df[col].apply(lambda x:one_hot(x, i))\n",
    "    del train_df[col]\n",
    "\n",
    "# We treat EDUCATION differently because of character '<' in one of the categories that prevents xgboost algorithm from working correctly.\n",
    "# We replace the character '<' in the category '<Highscool' by 'before'\n",
    "values = train_df['EDUCATION'].unique()\n",
    "for val in values:\n",
    "    if '<' in val:\n",
    "        train_df['EDUCATION'+' before ' + val[1:]] = train_df['EDUCATION'].apply(lambda x:one_hot(x, val))\n",
    "    else:\n",
    "        train_df['EDUCATION'+' ' + val] = train_df['EDUCATION'].apply(lambda x:one_hot(x, val))\n",
    "del train_df['EDUCATION']"
   ]
  },
  {
   "cell_type": "markdown",
   "metadata": {},
   "source": [
    "There are very few observations with missing AGE value (less than 0.1%) so we drop these observations during training."
   ]
  },
  {
   "cell_type": "code",
   "execution_count": 99,
   "metadata": {},
   "outputs": [
    {
     "name": "stdout",
     "output_type": "stream",
     "text": [
      "Le nombre d'observation ayant une valeur manquante en AGE est 6\n"
     ]
    }
   ],
   "source": [
    "print(\"Le nombre d'observation ayant une valeur manquante en AGE est\", len(train_df[train_df['AGE'].isna()]))"
   ]
  },
  {
   "cell_type": "code",
   "execution_count": 100,
   "metadata": {},
   "outputs": [],
   "source": [
    "# We select rows with non missing AGE value\n",
    "train_df = train_df[train_df['AGE'].notna()]"
   ]
  },
  {
   "cell_type": "markdown",
   "metadata": {},
   "source": [
    "For numeric variables, we reformat the values whenever necessary."
   ]
  },
  {
   "cell_type": "code",
   "execution_count": 101,
   "metadata": {},
   "outputs": [],
   "source": [
    "def reformat_money(x:str):\n",
    "    \"\"\" \n",
    "        Returns np.float from string (eg: '$14,452' becomes 14452)\n",
    "    \"\"\"\n",
    "    if x is not np.nan:\n",
    "        return float(x.split('$')[1].replace(',', ''))\n",
    "    return np.nan"
   ]
  },
  {
   "cell_type": "code",
   "execution_count": 102,
   "metadata": {},
   "outputs": [],
   "source": [
    "# We delete '$' and ',' symbols from the variables \n",
    "train_df['INCOME'] = train_df['INCOME'].apply(reformat_money)\n",
    "train_df['HOME_VAL'] = train_df['HOME_VAL'].apply(reformat_money)\n",
    "train_df['BLUEBOOK'] = train_df['BLUEBOOK'].apply(reformat_money)\n",
    "train_df['OLDCLAIM'] = train_df['OLDCLAIM'].apply(reformat_money)\n"
   ]
  },
  {
   "cell_type": "code",
   "execution_count": 103,
   "metadata": {},
   "outputs": [
    {
     "data": {
      "text/plain": [
       "array([[<AxesSubplot:title={'center':'YOJ'}>,\n",
       "        <AxesSubplot:title={'center':'INCOME'}>],\n",
       "       [<AxesSubplot:title={'center':'HOME_VAL'}>,\n",
       "        <AxesSubplot:title={'center':'CAR_AGE'}>]], dtype=object)"
      ]
     },
     "execution_count": 103,
     "metadata": {},
     "output_type": "execute_result"
    },
    {
     "data": {
      "image/png": "[encoded data removed]",
      "text/plain": [
       "<Figure size 432x288 with 4 Axes>"
      ]
     },
     "metadata": {
      "needs_background": "light"
     },
     "output_type": "display_data"
    }
   ],
   "source": [
    "train_df[['YOJ','INCOME','HOME_VAL','CAR_AGE'].hist(bins=20)"
   ]
  },
  {
   "cell_type": "code",
   "execution_count": 104,
   "metadata": {},
   "outputs": [],
   "source": [
    "# We replace the missing values of numeric variables with their mean\n",
    "\n",
    "train_df['YOJ'].replace(np.nan, train_df['YOJ'].mean(), inplace=True)\n",
    "train_df['INCOME'].replace(np.nan, train_df['INCOME'].mean(), inplace=True)\n",
    "train_df['HOME_VAL'].replace(np.nan, train_df['HOME_VAL'].mean(), inplace=True)\n",
    "train_df['CAR_AGE'].replace(np.nan, train_df['CAR_AGE'].mean(), inplace=True)"
   ]
  },
  {
   "cell_type": "code",
   "execution_count": 105,
   "metadata": {},
   "outputs": [],
   "source": [
    "# We delete TARGET_AMT as it is not available in the test set.\n",
    "# We delete INDEX as it is not useful in predicting TARGET FLAG\n",
    "del train_df['TARGET_AMT']\n",
    "del train_df['INDEX']"
   ]
  },
  {
   "cell_type": "markdown",
   "metadata": {},
   "source": [
    "### Building and evaluating model"
   ]
  },
  {
   "cell_type": "markdown",
   "metadata": {},
   "source": [
    "We first split the dataset into a training set and a validation set in order to evaluate our models."
   ]
  },
  {
   "cell_type": "code",
   "execution_count": 106,
   "metadata": {},
   "outputs": [],
   "source": [
    "from sklearn.model_selection import train_test_split\n",
    "\n",
    "# We split the data\n",
    "X_train, X_test, y_train, y_test = train_test_split(train_df.drop('TARGET_FLAG', axis=1), train_df['TARGET_FLAG'], test_size=0.3, random_state=1)"
   ]
  },
  {
   "cell_type": "markdown",
   "metadata": {},
   "source": [
    "We try the Random forest classifier, logistic regression and the XGBoost classifier."
   ]
  },
  {
   "cell_type": "markdown",
   "metadata": {},
   "source": [
    "There is an uneven class distribution: there are 6013 negative values for a total of 8161 values. Therefore, we use F1_score metric to evaluate the performance of our algorithm as it offers balance between precision and recall metric."
   ]
  },
  {
   "cell_type": "code",
   "execution_count": 107,
   "metadata": {},
   "outputs": [
    {
     "data": {
      "text/plain": [
       "LogisticRegression()"
      ]
     },
     "execution_count": 107,
     "metadata": {},
     "output_type": "execute_result"
    }
   ],
   "source": [
    "from sklearn.linear_model import LogisticRegression\n",
    "\n",
    "Lr = LogisticRegression()\n",
    "Lr.fit(X_train, y_train)"
   ]
  },
  {
   "cell_type": "code",
   "execution_count": 108,
   "metadata": {},
   "outputs": [],
   "source": [
    "Lr_pred = Lr.predict_proba (X_test)\n"
   ]
  },
  {
   "cell_type": "code",
   "execution_count": 109,
   "metadata": {},
   "outputs": [
    {
     "name": "stdout",
     "output_type": "stream",
     "text": [
      "Logistic regression score on validation set\n",
      "0.4496551724137931\n"
     ]
    }
   ],
   "source": [
    "# We empirically chose a probability threshold that offers the better f1_score on validation set\n",
    "print(\"Logistic regression score on validation set\")\n",
    "print( f1_score(y_test, Lr_pred[:,1]>0.3))\n"
   ]
  },
  {
   "cell_type": "code",
   "execution_count": 110,
   "metadata": {},
   "outputs": [
    {
     "data": {
      "text/plain": [
       "RandomForestClassifier()"
      ]
     },
     "execution_count": 110,
     "metadata": {},
     "output_type": "execute_result"
    }
   ],
   "source": [
    "from sklearn.ensemble import RandomForestClassifier\n",
    "\n",
    "rdf = RandomForestClassifier()\n",
    "rdf.fit(X_train, y_train)"
   ]
  },
  {
   "cell_type": "code",
   "execution_count": 111,
   "metadata": {},
   "outputs": [
    {
     "name": "stdout",
     "output_type": "stream",
     "text": [
      "Random forest score on validation set\n",
      "0.48459958932238195\n"
     ]
    }
   ],
   "source": [
    "from sklearn.metrics import f1_score\n",
    "\n",
    "rdf_pred = rdf.predict(X_test)\n",
    "print(\"Random forest score on validation set\")\n",
    "print( f1_score(y_test, rdf_pred))\n"
   ]
  },
  {
   "cell_type": "code",
   "execution_count": 112,
   "metadata": {},
   "outputs": [
    {
     "name": "stdout",
     "output_type": "stream",
     "text": [
      "[22:00:53] WARNING: C:\\Users\\Administrator\\workspace\\xgboost-win64_release_1.2.0\\src\\learner.cc:516: \n",
      "Parameters: { use_label_encoder } might not be used.\n",
      "\n",
      "  This may not be accurate due to some parameters are only used in language bindings but\n",
      "  passed down to XGBoost core.  Or some parameters are not used but slip through this\n",
      "  verification. Please open an issue if you find above cases.\n",
      "\n",
      "\n"
     ]
    },
    {
     "data": {
      "text/plain": [
       "XGBClassifier(base_score=0.5, booster='gbtree', colsample_bylevel=1,\n",
       "              colsample_bynode=1, colsample_bytree=1, gamma=0, gpu_id=-1,\n",
       "              importance_type='gain', interaction_constraints='',\n",
       "              learning_rate=0.300000012, max_delta_step=0, max_depth=6,\n",
       "              min_child_weight=1, missing=nan, monotone_constraints='()',\n",
       "              n_estimators=100, n_jobs=0, num_parallel_tree=1, random_state=0,\n",
       "              reg_alpha=0, reg_lambda=1, scale_pos_weight=1, subsample=1,\n",
       "              tree_method='exact', use_label_encoder=False,\n",
       "              validate_parameters=1, verbosity=None)"
      ]
     },
     "execution_count": 112,
     "metadata": {},
     "output_type": "execute_result"
    }
   ],
   "source": [
    "from xgboost import XGBClassifier\n",
    "\n",
    "xgb = XGBClassifier(use_label_encoder=False)\n",
    "xgb.fit(X_train, y_train)"
   ]
  },
  {
   "cell_type": "code",
   "execution_count": 113,
   "metadata": {},
   "outputs": [
    {
     "name": "stdout",
     "output_type": "stream",
     "text": [
      "XGBoost on validation set\n",
      "0.5190434012400355\n"
     ]
    }
   ],
   "source": [
    "xgb_pred = xgb.predict(X_test)\n",
    "print(\"XGBoost on validation set\")\n",
    "print(f1_score(y_test, xgb_pred))\n"
   ]
  },
  {
   "cell_type": "markdown",
   "metadata": {},
   "source": [
    "XGBoost has the best F1_score among our models. We use this model to fill the test set."
   ]
  },
  {
   "cell_type": "code",
   "execution_count": 114,
   "metadata": {},
   "outputs": [
    {
     "data": {
      "text/plain": [
       "<AxesSubplot:title={'center':'Feature importance'}, xlabel='F score', ylabel='Features'>"
      ]
     },
     "execution_count": 114,
     "metadata": {},
     "output_type": "execute_result"
    },
    {
     "data": {
      "image/png": "[encoded data removed]",
      "text/plain": [
       "<Figure size 432x288 with 1 Axes>"
      ]
     },
     "metadata": {
      "needs_background": "light"
     },
     "output_type": "display_data"
    }
   ],
   "source": [
    "from xgboost import plot_importance\n",
    "plot_importance(xgb, max_num_features=10)\n"
   ]
  },
  {
   "cell_type": "markdown",
   "metadata": {},
   "source": [
    "### Cleaning the test  set"
   ]
  },
  {
   "cell_type": "markdown",
   "metadata": {},
   "source": [
    "We first clean the test set using the same modification as for the train set."
   ]
  },
  {
   "cell_type": "code",
   "execution_count": 115,
   "metadata": {},
   "outputs": [],
   "source": [
    "columns = ['KIDSDRIV', 'HOMEKIDS', 'PARENT1', 'MSTATUS', 'SEX','RED_CAR','REVOKED', 'JOB', 'CAR_USE', 'CAR_TYPE', 'CLM_FREQ', 'URBANICITY']\n",
    "\n",
    "for col in columns:\n",
    "    for i in train_df_copy[col].unique():\n",
    "        test_df[col+' ' + str(i)] = test_df[col].apply(lambda x:one_hot(x, i))\n",
    "    del test_df[col]\n",
    "\n",
    "values = train_df_copy['EDUCATION'].unique()\n",
    "for val in values:\n",
    "    if '<' in val:\n",
    "        test_df['EDUCATION'+' before ' + val[1:]] = test_df['EDUCATION'].apply(lambda x:one_hot(x, val))\n",
    "    else:\n",
    "        test_df['EDUCATION'+' ' + val] = test_df['EDUCATION'].apply(lambda x:one_hot(x, val))\n",
    "del test_df['EDUCATION']\n",
    "\n",
    "test_df['INCOME'] = test_df['INCOME'].apply(reformat_money)\n",
    "test_df['HOME_VAL'] = test_df['HOME_VAL'].apply(reformat_money)\n",
    "test_df['BLUEBOOK'] = test_df['BLUEBOOK'].apply(reformat_money)\n",
    "test_df['OLDCLAIM'] = test_df['OLDCLAIM'].apply(reformat_money)\n",
    "\n",
    "test_df['YOJ'].replace(np.nan, test_df['YOJ'].mean(), inplace=True)\n",
    "test_df['AGE'].replace(np.nan, test_df['AGE'].mean(), inplace=True)\n",
    "test_df['INCOME'].replace(np.nan, test_df['INCOME'].mean(), inplace=True)\n",
    "test_df['HOME_VAL'].replace(np.nan, test_df['HOME_VAL'].mean(), inplace=True)\n",
    "test_df['CAR_AGE'].replace(np.nan, test_df['CAR_AGE'].mean(), inplace=True)\n",
    "\n",
    "del test_df['TARGET_AMT']\n",
    "del test_df['TARGET_FLAG']"
   ]
  },
  {
   "cell_type": "markdown",
   "metadata": {},
   "source": [
    "### Predictions on test set"
   ]
  },
  {
   "cell_type": "code",
   "execution_count": 116,
   "metadata": {},
   "outputs": [],
   "source": [
    "predictions = pd.DataFrame([], columns = ['INDEX', 'TARGET_FLAG'])\n",
    "predictions['INDEX'] = test_df['INDEX']\n",
    "del test_df['INDEX']"
   ]
  },
  {
   "cell_type": "code",
   "execution_count": 117,
   "metadata": {},
   "outputs": [],
   "source": [
    "y_pred  = xgb.predict(test_df)\n",
    "predictions ['TARGET_FLAG'] = y_pred"
   ]
  },
  {
   "cell_type": "code",
   "execution_count": 118,
   "metadata": {},
   "outputs": [
    {
     "data": {
      "text/html": [
       "<div>\n",
       "<style scoped>\n",
       "    .dataframe tbody tr th:only-of-type {\n",
       "        vertical-align: middle;\n",
       "    }\n",
       "\n",
       "    .dataframe tbody tr th {\n",
       "        vertical-align: top;\n",
       "    }\n",
       "\n",
       "    .dataframe thead th {\n",
       "        text-align: right;\n",
       "    }\n",
       "</style>\n",
       "<table border=\"1\" class=\"dataframe\">\n",
       "  <thead>\n",
       "    <tr style=\"text-align: right;\">\n",
       "      <th></th>\n",
       "      <th>INDEX</th>\n",
       "      <th>TARGET_FLAG</th>\n",
       "    </tr>\n",
       "  </thead>\n",
       "  <tbody>\n",
       "    <tr>\n",
       "      <th>0</th>\n",
       "      <td>3</td>\n",
       "      <td>0</td>\n",
       "    </tr>\n",
       "    <tr>\n",
       "      <th>1</th>\n",
       "      <td>9</td>\n",
       "      <td>0</td>\n",
       "    </tr>\n",
       "    <tr>\n",
       "      <th>2</th>\n",
       "      <td>10</td>\n",
       "      <td>0</td>\n",
       "    </tr>\n",
       "    <tr>\n",
       "      <th>3</th>\n",
       "      <td>18</td>\n",
       "      <td>0</td>\n",
       "    </tr>\n",
       "    <tr>\n",
       "      <th>4</th>\n",
       "      <td>21</td>\n",
       "      <td>0</td>\n",
       "    </tr>\n",
       "    <tr>\n",
       "      <th>...</th>\n",
       "      <td>...</td>\n",
       "      <td>...</td>\n",
       "    </tr>\n",
       "    <tr>\n",
       "      <th>2136</th>\n",
       "      <td>10279</td>\n",
       "      <td>1</td>\n",
       "    </tr>\n",
       "    <tr>\n",
       "      <th>2137</th>\n",
       "      <td>10281</td>\n",
       "      <td>0</td>\n",
       "    </tr>\n",
       "    <tr>\n",
       "      <th>2138</th>\n",
       "      <td>10285</td>\n",
       "      <td>0</td>\n",
       "    </tr>\n",
       "    <tr>\n",
       "      <th>2139</th>\n",
       "      <td>10294</td>\n",
       "      <td>0</td>\n",
       "    </tr>\n",
       "    <tr>\n",
       "      <th>2140</th>\n",
       "      <td>10300</td>\n",
       "      <td>0</td>\n",
       "    </tr>\n",
       "  </tbody>\n",
       "</table>\n",
       "<p>2141 rows × 2 columns</p>\n",
       "</div>"
      ],
      "text/plain": [
       "      INDEX  TARGET_FLAG\n",
       "0         3            0\n",
       "1         9            0\n",
       "2        10            0\n",
       "3        18            0\n",
       "4        21            0\n",
       "...     ...          ...\n",
       "2136  10279            1\n",
       "2137  10281            0\n",
       "2138  10285            0\n",
       "2139  10294            0\n",
       "2140  10300            0\n",
       "\n",
       "[2141 rows x 2 columns]"
      ]
     },
     "execution_count": 118,
     "metadata": {},
     "output_type": "execute_result"
    }
   ],
   "source": [
    "predictions"
   ]
  },
  {
   "cell_type": "code",
   "execution_count": 119,
   "metadata": {},
   "outputs": [],
   "source": [
    "predictions.to_csv('predictions.csv')"
   ]
  }
 ],
 "metadata": {
  "kernelspec": {
   "display_name": "Python 3",
   "language": "python",
   "name": "python3"
  },
  "language_info": {
   "codemirror_mode": {
    "name": "ipython",
    "version": 3
   },
   "file_extension": ".py",
   "mimetype": "text/x-python",
   "name": "python",
   "nbconvert_exporter": "python",
   "pygments_lexer": "ipython3",
   "version": "3.7.6"
  }
 },
 "nbformat": 4,
 "nbformat_minor": 4
}
